{
 "cells": [
  {
   "cell_type": "markdown",
   "id": "238b3a1a",
   "metadata": {},
   "source": [
    "import librarires"
   ]
  },
  {
   "cell_type": "code",
   "execution_count": 1,
   "id": "c189d7ad",
   "metadata": {},
   "outputs": [],
   "source": [
    "import pandas as pd\n",
    "import matplotlib.pyplot as plt\n"
   ]
  },
  {
   "cell_type": "markdown",
   "id": "bd98a045",
   "metadata": {},
   "source": [
    "load datasets"
   ]
  },
  {
   "cell_type": "code",
   "execution_count": 2,
   "id": "51aaf9f7",
   "metadata": {},
   "outputs": [],
   "source": [
    "# Load Hyperliquid trader data\n",
    "trader_df = pd.read_csv(\"csv_files/historical_data.csv\")\n",
    "\n",
    "# Load Fear & Greed Index data\n",
    "sentiment_df = pd.read_csv(\"csv_files/fear_greed_index.csv\")\n"
   ]
  },
  {
   "cell_type": "markdown",
   "id": "0f54ebf0",
   "metadata": {},
   "source": [
    "sentiment cleaning"
   ]
  },
  {
   "cell_type": "code",
   "execution_count": 4,
   "id": "03077d3d",
   "metadata": {},
   "outputs": [
    {
     "name": "stdout",
     "output_type": "stream",
     "text": [
      "<class 'pandas.core.frame.DataFrame'>\n",
      "RangeIndex: 2644 entries, 0 to 2643\n",
      "Data columns (total 4 columns):\n",
      " #   Column          Non-Null Count  Dtype \n",
      "---  ------          --------------  ----- \n",
      " 0   timestamp       2644 non-null   int64 \n",
      " 1   value           2644 non-null   int64 \n",
      " 2   classification  2644 non-null   object\n",
      " 3   date            2644 non-null   object\n",
      "dtypes: int64(2), object(2)\n",
      "memory usage: 82.8+ KB\n"
     ]
    }
   ],
   "source": [
    "sentiment_df.info()"
   ]
  },
  {
   "cell_type": "code",
   "execution_count": 5,
   "id": "328a1b05",
   "metadata": {},
   "outputs": [],
   "source": [
    "sentiment_df['timestamp']=pd.to_datetime(sentiment_df['timestamp'],unit='s')"
   ]
  },
  {
   "cell_type": "code",
   "execution_count": 6,
   "id": "0c50444a",
   "metadata": {},
   "outputs": [],
   "source": [
    "sentiment_df['date'] = pd.to_datetime(sentiment_df['date'])\n"
   ]
  },
  {
   "cell_type": "code",
   "execution_count": 7,
   "id": "90e41b15",
   "metadata": {},
   "outputs": [],
   "source": [
    "sentiment_df = sentiment_df.drop_duplicates()\n"
   ]
  },
  {
   "cell_type": "code",
   "execution_count": 8,
   "id": "bddd1b92",
   "metadata": {},
   "outputs": [],
   "source": [
    "sentiment_df['classification'] = sentiment_df['classification'].str.strip().str.lower()\n"
   ]
  },
  {
   "cell_type": "markdown",
   "id": "eecb61e5",
   "metadata": {},
   "source": [
    "trader cleaning\n"
   ]
  },
  {
   "cell_type": "code",
   "execution_count": 9,
   "id": "9e18d8f7",
   "metadata": {},
   "outputs": [
    {
     "name": "stdout",
     "output_type": "stream",
     "text": [
      "<class 'pandas.core.frame.DataFrame'>\n",
      "RangeIndex: 211224 entries, 0 to 211223\n",
      "Data columns (total 16 columns):\n",
      " #   Column            Non-Null Count   Dtype  \n",
      "---  ------            --------------   -----  \n",
      " 0   Account           211224 non-null  object \n",
      " 1   Coin              211224 non-null  object \n",
      " 2   Execution Price   211224 non-null  float64\n",
      " 3   Size Tokens       211224 non-null  float64\n",
      " 4   Size USD          211224 non-null  float64\n",
      " 5   Side              211224 non-null  object \n",
      " 6   Timestamp IST     211224 non-null  object \n",
      " 7   Start Position    211224 non-null  float64\n",
      " 8   Direction         211224 non-null  object \n",
      " 9   Closed PnL        211224 non-null  float64\n",
      " 10  Transaction Hash  211224 non-null  object \n",
      " 11  Order ID          211224 non-null  int64  \n",
      " 12  Crossed           211224 non-null  bool   \n",
      " 13  Fee               211224 non-null  float64\n",
      " 14  Trade ID          211224 non-null  float64\n",
      " 15  Timestamp         211224 non-null  float64\n",
      "dtypes: bool(1), float64(8), int64(1), object(6)\n",
      "memory usage: 24.4+ MB\n"
     ]
    }
   ],
   "source": [
    "trader_df.info()"
   ]
  },
  {
   "cell_type": "code",
   "execution_count": 10,
   "id": "1ab31875",
   "metadata": {},
   "outputs": [],
   "source": [
    "# Convert numeric UNIX timestamp (ms) → datetime\n",
    "trader_df['Datetime'] = pd.to_datetime(trader_df['Timestamp'], unit='ms')\n",
    "\n",
    "# Extract just the date for merging with sentiment_df\n",
    "trader_df['trade_date'] = trader_df['Datetime'].dt.date"
   ]
  },
  {
   "cell_type": "code",
   "execution_count": 11,
   "id": "514897fe",
   "metadata": {},
   "outputs": [
    {
     "data": {
      "application/vnd.microsoft.datawrangler.viewer.v0+json": {
       "columns": [
        {
         "name": "index",
         "rawType": "int64",
         "type": "integer"
        },
        {
         "name": "Account",
         "rawType": "object",
         "type": "string"
        },
        {
         "name": "Coin",
         "rawType": "object",
         "type": "string"
        },
        {
         "name": "Execution Price",
         "rawType": "float64",
         "type": "float"
        },
        {
         "name": "Size Tokens",
         "rawType": "float64",
         "type": "float"
        },
        {
         "name": "Size USD",
         "rawType": "float64",
         "type": "float"
        },
        {
         "name": "Side",
         "rawType": "object",
         "type": "string"
        },
        {
         "name": "Timestamp IST",
         "rawType": "object",
         "type": "string"
        },
        {
         "name": "Start Position",
         "rawType": "float64",
         "type": "float"
        },
        {
         "name": "Direction",
         "rawType": "object",
         "type": "string"
        },
        {
         "name": "Closed PnL",
         "rawType": "float64",
         "type": "float"
        },
        {
         "name": "Transaction Hash",
         "rawType": "object",
         "type": "string"
        },
        {
         "name": "Order ID",
         "rawType": "int64",
         "type": "integer"
        },
        {
         "name": "Crossed",
         "rawType": "bool",
         "type": "boolean"
        },
        {
         "name": "Fee",
         "rawType": "float64",
         "type": "float"
        },
        {
         "name": "Trade ID",
         "rawType": "float64",
         "type": "float"
        },
        {
         "name": "Timestamp",
         "rawType": "float64",
         "type": "float"
        },
        {
         "name": "Datetime",
         "rawType": "datetime64[ns]",
         "type": "datetime"
        },
        {
         "name": "trade_date",
         "rawType": "object",
         "type": "unknown"
        }
       ],
       "ref": "e563423e-292b-4831-b3bb-dbb0493af6e9",
       "rows": [
        [
         "0",
         "0xae5eacaf9c6b9111fd53034a602c192a04e082ed",
         "@107",
         "7.9769",
         "986.87",
         "7872.16",
         "BUY",
         "02-12-2024 22:50",
         "0.0",
         "Buy",
         "0.0",
         "0xec09451986a1874e3a980418412fcd0201f500c95bac0f37caef8a734502ec49",
         "52017706630",
         "True",
         "0.34540448",
         "895000000000000.0",
         "1730000000000.0",
         "2024-10-27 03:33:20",
         "2024-10-27"
        ],
        [
         "1",
         "0xae5eacaf9c6b9111fd53034a602c192a04e082ed",
         "@107",
         "7.98",
         "16.0",
         "127.68",
         "BUY",
         "02-12-2024 22:50",
         "986.5245955",
         "Buy",
         "0.0",
         "0xec09451986a1874e3a980418412fcd0201f500c95bac0f37caef8a734502ec49",
         "52017706630",
         "True",
         "0.0056",
         "443000000000000.0",
         "1730000000000.0",
         "2024-10-27 03:33:20",
         "2024-10-27"
        ],
        [
         "2",
         "0xae5eacaf9c6b9111fd53034a602c192a04e082ed",
         "@107",
         "7.9855",
         "144.09",
         "1150.63",
         "BUY",
         "02-12-2024 22:50",
         "1002.518996",
         "Buy",
         "0.0",
         "0xec09451986a1874e3a980418412fcd0201f500c95bac0f37caef8a734502ec49",
         "52017706630",
         "True",
         "0.0504314",
         "660000000000000.0",
         "1730000000000.0",
         "2024-10-27 03:33:20",
         "2024-10-27"
        ],
        [
         "3",
         "0xae5eacaf9c6b9111fd53034a602c192a04e082ed",
         "@107",
         "7.9874",
         "142.98",
         "1142.04",
         "BUY",
         "02-12-2024 22:50",
         "1146.558564",
         "Buy",
         "0.0",
         "0xec09451986a1874e3a980418412fcd0201f500c95bac0f37caef8a734502ec49",
         "52017706630",
         "True",
         "0.05004294",
         "1080000000000000.0",
         "1730000000000.0",
         "2024-10-27 03:33:20",
         "2024-10-27"
        ],
        [
         "4",
         "0xae5eacaf9c6b9111fd53034a602c192a04e082ed",
         "@107",
         "7.9894",
         "8.73",
         "69.75",
         "BUY",
         "02-12-2024 22:50",
         "1289.488521",
         "Buy",
         "0.0",
         "0xec09451986a1874e3a980418412fcd0201f500c95bac0f37caef8a734502ec49",
         "52017706630",
         "True",
         "0.00305542",
         "1050000000000000.0",
         "1730000000000.0",
         "2024-10-27 03:33:20",
         "2024-10-27"
        ]
       ],
       "shape": {
        "columns": 18,
        "rows": 5
       }
      },
      "text/html": [
       "<div>\n",
       "<style scoped>\n",
       "    .dataframe tbody tr th:only-of-type {\n",
       "        vertical-align: middle;\n",
       "    }\n",
       "\n",
       "    .dataframe tbody tr th {\n",
       "        vertical-align: top;\n",
       "    }\n",
       "\n",
       "    .dataframe thead th {\n",
       "        text-align: right;\n",
       "    }\n",
       "</style>\n",
       "<table border=\"1\" class=\"dataframe\">\n",
       "  <thead>\n",
       "    <tr style=\"text-align: right;\">\n",
       "      <th></th>\n",
       "      <th>Account</th>\n",
       "      <th>Coin</th>\n",
       "      <th>Execution Price</th>\n",
       "      <th>Size Tokens</th>\n",
       "      <th>Size USD</th>\n",
       "      <th>Side</th>\n",
       "      <th>Timestamp IST</th>\n",
       "      <th>Start Position</th>\n",
       "      <th>Direction</th>\n",
       "      <th>Closed PnL</th>\n",
       "      <th>Transaction Hash</th>\n",
       "      <th>Order ID</th>\n",
       "      <th>Crossed</th>\n",
       "      <th>Fee</th>\n",
       "      <th>Trade ID</th>\n",
       "      <th>Timestamp</th>\n",
       "      <th>Datetime</th>\n",
       "      <th>trade_date</th>\n",
       "    </tr>\n",
       "  </thead>\n",
       "  <tbody>\n",
       "    <tr>\n",
       "      <th>0</th>\n",
       "      <td>0xae5eacaf9c6b9111fd53034a602c192a04e082ed</td>\n",
       "      <td>@107</td>\n",
       "      <td>7.9769</td>\n",
       "      <td>986.87</td>\n",
       "      <td>7872.16</td>\n",
       "      <td>BUY</td>\n",
       "      <td>02-12-2024 22:50</td>\n",
       "      <td>0.000000</td>\n",
       "      <td>Buy</td>\n",
       "      <td>0.0</td>\n",
       "      <td>0xec09451986a1874e3a980418412fcd0201f500c95bac...</td>\n",
       "      <td>52017706630</td>\n",
       "      <td>True</td>\n",
       "      <td>0.345404</td>\n",
       "      <td>8.950000e+14</td>\n",
       "      <td>1.730000e+12</td>\n",
       "      <td>2024-10-27 03:33:20</td>\n",
       "      <td>2024-10-27</td>\n",
       "    </tr>\n",
       "    <tr>\n",
       "      <th>1</th>\n",
       "      <td>0xae5eacaf9c6b9111fd53034a602c192a04e082ed</td>\n",
       "      <td>@107</td>\n",
       "      <td>7.9800</td>\n",
       "      <td>16.00</td>\n",
       "      <td>127.68</td>\n",
       "      <td>BUY</td>\n",
       "      <td>02-12-2024 22:50</td>\n",
       "      <td>986.524596</td>\n",
       "      <td>Buy</td>\n",
       "      <td>0.0</td>\n",
       "      <td>0xec09451986a1874e3a980418412fcd0201f500c95bac...</td>\n",
       "      <td>52017706630</td>\n",
       "      <td>True</td>\n",
       "      <td>0.005600</td>\n",
       "      <td>4.430000e+14</td>\n",
       "      <td>1.730000e+12</td>\n",
       "      <td>2024-10-27 03:33:20</td>\n",
       "      <td>2024-10-27</td>\n",
       "    </tr>\n",
       "    <tr>\n",
       "      <th>2</th>\n",
       "      <td>0xae5eacaf9c6b9111fd53034a602c192a04e082ed</td>\n",
       "      <td>@107</td>\n",
       "      <td>7.9855</td>\n",
       "      <td>144.09</td>\n",
       "      <td>1150.63</td>\n",
       "      <td>BUY</td>\n",
       "      <td>02-12-2024 22:50</td>\n",
       "      <td>1002.518996</td>\n",
       "      <td>Buy</td>\n",
       "      <td>0.0</td>\n",
       "      <td>0xec09451986a1874e3a980418412fcd0201f500c95bac...</td>\n",
       "      <td>52017706630</td>\n",
       "      <td>True</td>\n",
       "      <td>0.050431</td>\n",
       "      <td>6.600000e+14</td>\n",
       "      <td>1.730000e+12</td>\n",
       "      <td>2024-10-27 03:33:20</td>\n",
       "      <td>2024-10-27</td>\n",
       "    </tr>\n",
       "    <tr>\n",
       "      <th>3</th>\n",
       "      <td>0xae5eacaf9c6b9111fd53034a602c192a04e082ed</td>\n",
       "      <td>@107</td>\n",
       "      <td>7.9874</td>\n",
       "      <td>142.98</td>\n",
       "      <td>1142.04</td>\n",
       "      <td>BUY</td>\n",
       "      <td>02-12-2024 22:50</td>\n",
       "      <td>1146.558564</td>\n",
       "      <td>Buy</td>\n",
       "      <td>0.0</td>\n",
       "      <td>0xec09451986a1874e3a980418412fcd0201f500c95bac...</td>\n",
       "      <td>52017706630</td>\n",
       "      <td>True</td>\n",
       "      <td>0.050043</td>\n",
       "      <td>1.080000e+15</td>\n",
       "      <td>1.730000e+12</td>\n",
       "      <td>2024-10-27 03:33:20</td>\n",
       "      <td>2024-10-27</td>\n",
       "    </tr>\n",
       "    <tr>\n",
       "      <th>4</th>\n",
       "      <td>0xae5eacaf9c6b9111fd53034a602c192a04e082ed</td>\n",
       "      <td>@107</td>\n",
       "      <td>7.9894</td>\n",
       "      <td>8.73</td>\n",
       "      <td>69.75</td>\n",
       "      <td>BUY</td>\n",
       "      <td>02-12-2024 22:50</td>\n",
       "      <td>1289.488521</td>\n",
       "      <td>Buy</td>\n",
       "      <td>0.0</td>\n",
       "      <td>0xec09451986a1874e3a980418412fcd0201f500c95bac...</td>\n",
       "      <td>52017706630</td>\n",
       "      <td>True</td>\n",
       "      <td>0.003055</td>\n",
       "      <td>1.050000e+15</td>\n",
       "      <td>1.730000e+12</td>\n",
       "      <td>2024-10-27 03:33:20</td>\n",
       "      <td>2024-10-27</td>\n",
       "    </tr>\n",
       "  </tbody>\n",
       "</table>\n",
       "</div>"
      ],
      "text/plain": [
       "                                      Account  Coin  Execution Price  \\\n",
       "0  0xae5eacaf9c6b9111fd53034a602c192a04e082ed  @107           7.9769   \n",
       "1  0xae5eacaf9c6b9111fd53034a602c192a04e082ed  @107           7.9800   \n",
       "2  0xae5eacaf9c6b9111fd53034a602c192a04e082ed  @107           7.9855   \n",
       "3  0xae5eacaf9c6b9111fd53034a602c192a04e082ed  @107           7.9874   \n",
       "4  0xae5eacaf9c6b9111fd53034a602c192a04e082ed  @107           7.9894   \n",
       "\n",
       "   Size Tokens  Size USD Side     Timestamp IST  Start Position Direction  \\\n",
       "0       986.87   7872.16  BUY  02-12-2024 22:50        0.000000       Buy   \n",
       "1        16.00    127.68  BUY  02-12-2024 22:50      986.524596       Buy   \n",
       "2       144.09   1150.63  BUY  02-12-2024 22:50     1002.518996       Buy   \n",
       "3       142.98   1142.04  BUY  02-12-2024 22:50     1146.558564       Buy   \n",
       "4         8.73     69.75  BUY  02-12-2024 22:50     1289.488521       Buy   \n",
       "\n",
       "   Closed PnL                                   Transaction Hash     Order ID  \\\n",
       "0         0.0  0xec09451986a1874e3a980418412fcd0201f500c95bac...  52017706630   \n",
       "1         0.0  0xec09451986a1874e3a980418412fcd0201f500c95bac...  52017706630   \n",
       "2         0.0  0xec09451986a1874e3a980418412fcd0201f500c95bac...  52017706630   \n",
       "3         0.0  0xec09451986a1874e3a980418412fcd0201f500c95bac...  52017706630   \n",
       "4         0.0  0xec09451986a1874e3a980418412fcd0201f500c95bac...  52017706630   \n",
       "\n",
       "   Crossed       Fee      Trade ID     Timestamp            Datetime  \\\n",
       "0     True  0.345404  8.950000e+14  1.730000e+12 2024-10-27 03:33:20   \n",
       "1     True  0.005600  4.430000e+14  1.730000e+12 2024-10-27 03:33:20   \n",
       "2     True  0.050431  6.600000e+14  1.730000e+12 2024-10-27 03:33:20   \n",
       "3     True  0.050043  1.080000e+15  1.730000e+12 2024-10-27 03:33:20   \n",
       "4     True  0.003055  1.050000e+15  1.730000e+12 2024-10-27 03:33:20   \n",
       "\n",
       "   trade_date  \n",
       "0  2024-10-27  \n",
       "1  2024-10-27  \n",
       "2  2024-10-27  \n",
       "3  2024-10-27  \n",
       "4  2024-10-27  "
      ]
     },
     "execution_count": 11,
     "metadata": {},
     "output_type": "execute_result"
    }
   ],
   "source": [
    "trader_df.head()"
   ]
  },
  {
   "cell_type": "code",
   "execution_count": null,
   "id": "6ce110ba",
   "metadata": {},
   "outputs": [],
   "source": [
    "trader_df = trader_df.drop(columns=['Timestamp IST'])\n"
   ]
  },
  {
   "cell_type": "code",
   "execution_count": 13,
   "id": "6bf8c5a4",
   "metadata": {},
   "outputs": [],
   "source": [
    "trader_df['trade_date'] = pd.to_datetime(trader_df['trade_date']).dt.date"
   ]
  },
  {
   "cell_type": "code",
   "execution_count": 14,
   "id": "f520b4d1",
   "metadata": {},
   "outputs": [],
   "source": [
    "sentiment_df['date'] = pd.to_datetime(sentiment_df['date']).dt.date"
   ]
  },
  {
   "cell_type": "code",
   "execution_count": 15,
   "id": "f606dde8",
   "metadata": {},
   "outputs": [],
   "source": [
    "# Merge on date\n",
    "merged_df = trader_df.merge(\n",
    "    sentiment_df[['date', 'classification', 'value']],  # keep only useful cols\n",
    "    left_on='trade_date',\n",
    "    right_on='date',\n",
    "    how='left'\n",
    ")\n",
    "\n",
    "# Drop duplicate Date col\n",
    "merged_df = merged_df.drop(columns=['date'])\n"
   ]
  },
  {
   "cell_type": "code",
   "execution_count": 16,
   "id": "077434db",
   "metadata": {},
   "outputs": [
    {
     "name": "stdout",
     "output_type": "stream",
     "text": [
      "<class 'pandas.core.frame.DataFrame'>\n",
      "RangeIndex: 211224 entries, 0 to 211223\n",
      "Data columns (total 19 columns):\n",
      " #   Column            Non-Null Count   Dtype         \n",
      "---  ------            --------------   -----         \n",
      " 0   Account           211224 non-null  object        \n",
      " 1   Coin              211224 non-null  object        \n",
      " 2   Execution Price   211224 non-null  float64       \n",
      " 3   Size Tokens       211224 non-null  float64       \n",
      " 4   Size USD          211224 non-null  float64       \n",
      " 5   Side              211224 non-null  object        \n",
      " 6   Start Position    211224 non-null  float64       \n",
      " 7   Direction         211224 non-null  object        \n",
      " 8   Closed PnL        211224 non-null  float64       \n",
      " 9   Transaction Hash  211224 non-null  object        \n",
      " 10  Order ID          211224 non-null  int64         \n",
      " 11  Crossed           211224 non-null  bool          \n",
      " 12  Fee               211224 non-null  float64       \n",
      " 13  Trade ID          211224 non-null  float64       \n",
      " 14  Timestamp         211224 non-null  float64       \n",
      " 15  Datetime          211224 non-null  datetime64[ns]\n",
      " 16  trade_date        211224 non-null  object        \n",
      " 17  classification    184263 non-null  object        \n",
      " 18  value             184263 non-null  float64       \n",
      "dtypes: bool(1), datetime64[ns](1), float64(9), int64(1), object(7)\n",
      "memory usage: 29.2+ MB\n"
     ]
    }
   ],
   "source": [
    "merged_df.info()"
   ]
  },
  {
   "cell_type": "code",
   "execution_count": 17,
   "id": "c1b2afdf",
   "metadata": {},
   "outputs": [
    {
     "data": {
      "text/plain": [
       "Index(['Account', 'Coin', 'Execution Price', 'Size Tokens', 'Size USD', 'Side',\n",
       "       'Start Position', 'Direction', 'Closed PnL', 'Transaction Hash',\n",
       "       'Order ID', 'Crossed', 'Fee', 'Trade ID', 'Timestamp', 'Datetime',\n",
       "       'trade_date', 'classification', 'value'],\n",
       "      dtype='object')"
      ]
     },
     "execution_count": 17,
     "metadata": {},
     "output_type": "execute_result"
    }
   ],
   "source": [
    "merged_df.columns"
   ]
  },
  {
   "cell_type": "code",
   "execution_count": 18,
   "id": "aa55f7a4",
   "metadata": {},
   "outputs": [
    {
     "data": {
      "application/vnd.microsoft.datawrangler.viewer.v0+json": {
       "columns": [
        {
         "name": "index",
         "rawType": "object",
         "type": "string"
        },
        {
         "name": "0",
         "rawType": "int64",
         "type": "integer"
        }
       ],
       "ref": "cfb8ae33-7452-4b98-81e8-e2c8571c782d",
       "rows": [
        [
         "Account",
         "0"
        ],
        [
         "Coin",
         "0"
        ],
        [
         "Execution Price",
         "0"
        ],
        [
         "Size Tokens",
         "0"
        ],
        [
         "Size USD",
         "0"
        ],
        [
         "Side",
         "0"
        ],
        [
         "Start Position",
         "0"
        ],
        [
         "Direction",
         "0"
        ],
        [
         "Closed PnL",
         "0"
        ],
        [
         "Transaction Hash",
         "0"
        ],
        [
         "Order ID",
         "0"
        ],
        [
         "Crossed",
         "0"
        ],
        [
         "Fee",
         "0"
        ],
        [
         "Trade ID",
         "0"
        ],
        [
         "Timestamp",
         "0"
        ],
        [
         "Datetime",
         "0"
        ],
        [
         "trade_date",
         "0"
        ],
        [
         "classification",
         "26961"
        ],
        [
         "value",
         "26961"
        ]
       ],
       "shape": {
        "columns": 1,
        "rows": 19
       }
      },
      "text/plain": [
       "Account                 0\n",
       "Coin                    0\n",
       "Execution Price         0\n",
       "Size Tokens             0\n",
       "Size USD                0\n",
       "Side                    0\n",
       "Start Position          0\n",
       "Direction               0\n",
       "Closed PnL              0\n",
       "Transaction Hash        0\n",
       "Order ID                0\n",
       "Crossed                 0\n",
       "Fee                     0\n",
       "Trade ID                0\n",
       "Timestamp               0\n",
       "Datetime                0\n",
       "trade_date              0\n",
       "classification      26961\n",
       "value               26961\n",
       "dtype: int64"
      ]
     },
     "execution_count": 18,
     "metadata": {},
     "output_type": "execute_result"
    }
   ],
   "source": [
    "merged_df.isnull().sum()"
   ]
  },
  {
   "cell_type": "code",
   "execution_count": 34,
   "id": "bccc4623",
   "metadata": {},
   "outputs": [
    {
     "name": "stdout",
     "output_type": "stream",
     "text": [
      "Matched 184263/211224 trades (87.24%) with sentiment data\n"
     ]
    }
   ],
   "source": [
    "total_trades = len(merged_df)\n",
    "matched_trades = merged_df['classification'].notna().sum()\n",
    "\n",
    "print(f\"Matched {matched_trades}/{total_trades} trades ({matched_trades/total_trades:.2%}) with sentiment data\")\n"
   ]
  },
  {
   "cell_type": "code",
   "execution_count": 39,
   "id": "93362c39",
   "metadata": {},
   "outputs": [],
   "source": [
    "merged_df = merged_df.dropna(subset=['classification','value'])\n"
   ]
  },
  {
   "cell_type": "code",
   "execution_count": 53,
   "id": "13d4c712",
   "metadata": {},
   "outputs": [
    {
     "data": {
      "text/plain": [
       "Index(['Account', 'Coin', 'Execution Price', 'Size Tokens', 'Size USD', 'Side',\n",
       "       'Start Position', 'Direction', 'Closed PnL', 'Transaction Hash',\n",
       "       'Order ID', 'Crossed', 'Fee', 'Trade ID', 'Datetime', 'trade_date',\n",
       "       'classification', 'value'],\n",
       "      dtype='object')"
      ]
     },
     "execution_count": 53,
     "metadata": {},
     "output_type": "execute_result"
    }
   ],
   "source": [
    "merged_df.columns"
   ]
  },
  {
   "cell_type": "code",
   "execution_count": 55,
   "id": "9e956d9c",
   "metadata": {},
   "outputs": [],
   "source": [
    "# Keep only necessary columns\n",
    "keep_cols = ['Account', 'Coin', 'Execution Price', 'Size USD', 'Side', 'trade_date', 'Closed PnL','classification','value']\n",
    "merged_df = merged_df[keep_cols]\n"
   ]
  },
  {
   "cell_type": "code",
   "execution_count": 56,
   "id": "b1c02146",
   "metadata": {},
   "outputs": [],
   "source": [
    "merged_df.to_csv(\"csv_files/final_data.csv\")"
   ]
  },
  {
   "cell_type": "markdown",
   "id": "bf4a2326",
   "metadata": {},
   "source": [
    "EDA"
   ]
  },
  {
   "cell_type": "code",
   "execution_count": 57,
   "id": "bc8c9ac6",
   "metadata": {},
   "outputs": [
    {
     "data": {
      "text/html": [
       "<div>\n",
       "<style scoped>\n",
       "    .dataframe tbody tr th:only-of-type {\n",
       "        vertical-align: middle;\n",
       "    }\n",
       "\n",
       "    .dataframe tbody tr th {\n",
       "        vertical-align: top;\n",
       "    }\n",
       "\n",
       "    .dataframe thead th {\n",
       "        text-align: right;\n",
       "    }\n",
       "</style>\n",
       "<table border=\"1\" class=\"dataframe\">\n",
       "  <thead>\n",
       "    <tr style=\"text-align: right;\">\n",
       "      <th></th>\n",
       "      <th>Account</th>\n",
       "      <th>Coin</th>\n",
       "      <th>Execution Price</th>\n",
       "      <th>Size USD</th>\n",
       "      <th>Side</th>\n",
       "      <th>trade_date</th>\n",
       "      <th>Closed PnL</th>\n",
       "      <th>classification</th>\n",
       "      <th>value</th>\n",
       "    </tr>\n",
       "  </thead>\n",
       "  <tbody>\n",
       "    <tr>\n",
       "      <th>0</th>\n",
       "      <td>0xae5eacaf9c6b9111fd53034a602c192a04e082ed</td>\n",
       "      <td>@107</td>\n",
       "      <td>7.9769</td>\n",
       "      <td>7872.16</td>\n",
       "      <td>BUY</td>\n",
       "      <td>2024-10-27</td>\n",
       "      <td>0.0</td>\n",
       "      <td>greed</td>\n",
       "      <td>74.0</td>\n",
       "    </tr>\n",
       "    <tr>\n",
       "      <th>1</th>\n",
       "      <td>0xae5eacaf9c6b9111fd53034a602c192a04e082ed</td>\n",
       "      <td>@107</td>\n",
       "      <td>7.9800</td>\n",
       "      <td>127.68</td>\n",
       "      <td>BUY</td>\n",
       "      <td>2024-10-27</td>\n",
       "      <td>0.0</td>\n",
       "      <td>greed</td>\n",
       "      <td>74.0</td>\n",
       "    </tr>\n",
       "    <tr>\n",
       "      <th>2</th>\n",
       "      <td>0xae5eacaf9c6b9111fd53034a602c192a04e082ed</td>\n",
       "      <td>@107</td>\n",
       "      <td>7.9855</td>\n",
       "      <td>1150.63</td>\n",
       "      <td>BUY</td>\n",
       "      <td>2024-10-27</td>\n",
       "      <td>0.0</td>\n",
       "      <td>greed</td>\n",
       "      <td>74.0</td>\n",
       "    </tr>\n",
       "    <tr>\n",
       "      <th>3</th>\n",
       "      <td>0xae5eacaf9c6b9111fd53034a602c192a04e082ed</td>\n",
       "      <td>@107</td>\n",
       "      <td>7.9874</td>\n",
       "      <td>1142.04</td>\n",
       "      <td>BUY</td>\n",
       "      <td>2024-10-27</td>\n",
       "      <td>0.0</td>\n",
       "      <td>greed</td>\n",
       "      <td>74.0</td>\n",
       "    </tr>\n",
       "    <tr>\n",
       "      <th>4</th>\n",
       "      <td>0xae5eacaf9c6b9111fd53034a602c192a04e082ed</td>\n",
       "      <td>@107</td>\n",
       "      <td>7.9894</td>\n",
       "      <td>69.75</td>\n",
       "      <td>BUY</td>\n",
       "      <td>2024-10-27</td>\n",
       "      <td>0.0</td>\n",
       "      <td>greed</td>\n",
       "      <td>74.0</td>\n",
       "    </tr>\n",
       "  </tbody>\n",
       "</table>\n",
       "</div>"
      ],
      "text/plain": [
       "                                      Account  Coin  Execution Price  \\\n",
       "0  0xae5eacaf9c6b9111fd53034a602c192a04e082ed  @107           7.9769   \n",
       "1  0xae5eacaf9c6b9111fd53034a602c192a04e082ed  @107           7.9800   \n",
       "2  0xae5eacaf9c6b9111fd53034a602c192a04e082ed  @107           7.9855   \n",
       "3  0xae5eacaf9c6b9111fd53034a602c192a04e082ed  @107           7.9874   \n",
       "4  0xae5eacaf9c6b9111fd53034a602c192a04e082ed  @107           7.9894   \n",
       "\n",
       "   Size USD Side  trade_date  Closed PnL classification  value  \n",
       "0   7872.16  BUY  2024-10-27         0.0          greed   74.0  \n",
       "1    127.68  BUY  2024-10-27         0.0          greed   74.0  \n",
       "2   1150.63  BUY  2024-10-27         0.0          greed   74.0  \n",
       "3   1142.04  BUY  2024-10-27         0.0          greed   74.0  \n",
       "4     69.75  BUY  2024-10-27         0.0          greed   74.0  "
      ]
     },
     "execution_count": 57,
     "metadata": {},
     "output_type": "execute_result"
    }
   ],
   "source": [
    "merged_df.head()"
   ]
  },
  {
   "cell_type": "markdown",
   "id": "dbe6c444",
   "metadata": {},
   "source": [
    "### Q1. Do traders perform better in Fear or Greed?"
   ]
  },
  {
   "cell_type": "code",
   "execution_count": 79,
   "id": "317436f4",
   "metadata": {},
   "outputs": [
    {
     "data": {
      "text/plain": [
       "classification\n",
       "extreme greed    25.418772\n",
       "fear             50.047622\n",
       "greed            87.894859\n",
       "neutral          22.229713\n",
       "Name: Closed PnL, dtype: float64"
      ]
     },
     "execution_count": 79,
     "metadata": {},
     "output_type": "execute_result"
    }
   ],
   "source": [
    "merged_df.groupby('classification')['Closed PnL'].mean()\n"
   ]
  },
  {
   "cell_type": "markdown",
   "id": "92324552",
   "metadata": {},
   "source": [
    "Insight: Moderate Greed is best for traders, but extreme Greed and Neutral sentiment lower performance."
   ]
  },
  {
   "cell_type": "markdown",
   "id": "95eda727",
   "metadata": {},
   "source": [
    "### Q2. Maybe Buy trades work better in Greed, Sell trades in Fear.\n"
   ]
  },
  {
   "cell_type": "code",
   "execution_count": 83,
   "id": "0afcb26f",
   "metadata": {},
   "outputs": [
    {
     "data": {
      "text/plain": [
       "classification  Side\n",
       "extreme greed   BUY      25.578564\n",
       "                SELL     25.268770\n",
       "fear            BUY      58.074630\n",
       "                SELL     42.222976\n",
       "greed           BUY      12.489506\n",
       "                SELL    143.617782\n",
       "neutral         BUY      15.646108\n",
       "                SELL     28.576120\n",
       "Name: Closed PnL, dtype: float64"
      ]
     },
     "execution_count": 83,
     "metadata": {},
     "output_type": "execute_result"
    }
   ],
   "source": [
    "merged_df.groupby(['classification','Side'])['Closed PnL'].mean()\n"
   ]
  },
  {
   "cell_type": "markdown",
   "id": "d2ad489d",
   "metadata": {},
   "source": [
    "🔎 Insights\n",
    "\n",
    "Greed sentiment → SELL trades massively outperform BUY trades.\n",
    "\n",
    "Traders who short during Greed phases earn far more.\n",
    "\n",
    "Fear sentiment → BUY trades are stronger.\n",
    "\n",
    "Traders who go long during Fear make more profit.\n",
    "\n",
    "Extreme Greed → Both BUY & SELL give similar results (no edge).\n",
    "\n",
    "Market may be overheated, traders can’t find consistent edge.\n",
    "\n",
    "Neutral sentiment → Both sides underperform, SELL slightly better.\n",
    "\n",
    "Market uncertainty = weak profitability."
   ]
  },
  {
   "cell_type": "code",
   "execution_count": 20,
   "id": "110854ba",
   "metadata": {},
   "outputs": [
    {
     "data": {
      "image/png": "[encoded data removed]",
      "text/plain": [
       "<Figure size 500x400 with 1 Axes>"
      ]
     },
     "metadata": {},
     "output_type": "display_data"
    }
   ],
   "source": [
    "import matplotlib.pyplot as plt\n",
    "\n",
    "plt.figure(figsize=(5,4))\n",
    "merged_df['Closed PnL'].hist(bins=30, edgecolor='black')\n",
    "plt.title(\"Distribution of Closed PnL\")\n",
    "plt.xlabel(\"Closed PnL\")\n",
    "plt.ylabel(\"Frequency\")\n",
    "plt.show()\n"
   ]
  },
  {
   "cell_type": "code",
   "execution_count": 23,
   "id": "ba084e17",
   "metadata": {},
   "outputs": [
    {
     "data": {
      "image/png": "[encoded data removed]",
      "text/plain": [
       "<Figure size 1000x400 with 1 Axes>"
      ]
     },
     "metadata": {},
     "output_type": "display_data"
    }
   ],
   "source": [
    "plt.figure(figsize=(10,4))\n",
    "plt.scatter(merged_df['trade_date'], merged_df['Closed PnL'], alpha=0.6)\n",
    "plt.title(\"Closed PnL Over Time\")\n",
    "plt.xlabel(\"Date\")\n",
    "plt.ylabel(\"Closed PnL\")\n",
    "plt.show()\n"
   ]
  },
  {
   "cell_type": "code",
   "execution_count": null,
   "id": "f35f4c19",
   "metadata": {},
   "outputs": [],
   "source": []
  }
 ],
 "metadata": {
  "kernelspec": {
   "display_name": "base",
   "language": "python",
   "name": "python3"
  },
  "language_info": {
   "codemirror_mode": {
    "name": "ipython",
    "version": 3
   },
   "file_extension": ".py",
   "mimetype": "text/x-python",
   "name": "python",
   "nbconvert_exporter": "python",
   "pygments_lexer": "ipython3",
   "version": "3.13.5"
  }
 },
 "nbformat": 4,
 "nbformat_minor": 5
}
