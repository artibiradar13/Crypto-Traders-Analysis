{
 "cells": [
  {
   "cell_type": "markdown",
   "id": "238b3a1a",
   "metadata": {},
   "source": [
    "import librarires"
   ]
  },
  {
   "cell_type": "code",
   "execution_count": 1,
   "id": "c189d7ad",
   "metadata": {},
   "outputs": [],
   "source": [
    "import pandas as pd\n"
   ]
  },
  {
   "cell_type": "markdown",
   "id": "bd98a045",
   "metadata": {},
   "source": [
    "load datasets"
   ]
  },
  {
   "cell_type": "code",
   "execution_count": 2,
   "id": "51aaf9f7",
   "metadata": {},
   "outputs": [],
   "source": [
    "# Load Hyperliquid trader data\n",
    "trader_df = pd.read_csv(\"csv_files/historical_data.csv\")\n",
    "\n",
    "# Load Fear & Greed Index data\n",
    "sentiment_df = pd.read_csv(\"csv_files/fear_greed_index.csv\")\n"
   ]
  },
  {
   "cell_type": "markdown",
   "id": "0f54ebf0",
   "metadata": {},
   "source": [
    "sentiment cleaning"
   ]
  },
  {
   "cell_type": "code",
   "execution_count": 19,
   "id": "03077d3d",
   "metadata": {},
   "outputs": [
    {
     "name": "stdout",
     "output_type": "stream",
     "text": [
      "<class 'pandas.core.frame.DataFrame'>\n",
      "RangeIndex: 2644 entries, 0 to 2643\n",
      "Data columns (total 4 columns):\n",
      " #   Column          Non-Null Count  Dtype         \n",
      "---  ------          --------------  -----         \n",
      " 0   timestamp       2644 non-null   datetime64[ns]\n",
      " 1   value           2644 non-null   int64         \n",
      " 2   classification  2644 non-null   object        \n",
      " 3   date            2644 non-null   datetime64[ns]\n",
      "dtypes: datetime64[ns](2), int64(1), object(1)\n",
      "memory usage: 82.8+ KB\n"
     ]
    }
   ],
   "source": [
    "sentiment_df.info()"
   ]
  },
  {
   "cell_type": "code",
   "execution_count": 4,
   "id": "328a1b05",
   "metadata": {},
   "outputs": [],
   "source": [
    "sentiment_df['timestamp']=pd.to_datetime(sentiment_df['timestamp'],unit='s')"
   ]
  },
  {
   "cell_type": "code",
   "execution_count": 5,
   "id": "0c50444a",
   "metadata": {},
   "outputs": [],
   "source": [
    "sentiment_df['date'] = pd.to_datetime(sentiment_df['date'])\n"
   ]
  },
  {
   "cell_type": "code",
   "execution_count": 6,
   "id": "90e41b15",
   "metadata": {},
   "outputs": [],
   "source": [
    "sentiment_df = sentiment_df.drop_duplicates()\n"
   ]
  },
  {
   "cell_type": "code",
   "execution_count": 7,
   "id": "bddd1b92",
   "metadata": {},
   "outputs": [],
   "source": [
    "sentiment_df['classification'] = sentiment_df['classification'].str.strip().str.lower()\n"
   ]
  },
  {
   "cell_type": "markdown",
   "id": "eecb61e5",
   "metadata": {},
   "source": [
    "trader cleaning\n"
   ]
  },
  {
   "cell_type": "code",
   "execution_count": 10,
   "id": "9e18d8f7",
   "metadata": {},
   "outputs": [
    {
     "name": "stdout",
     "output_type": "stream",
     "text": [
      "<class 'pandas.core.frame.DataFrame'>\n",
      "RangeIndex: 211224 entries, 0 to 211223\n",
      "Data columns (total 16 columns):\n",
      " #   Column            Non-Null Count   Dtype  \n",
      "---  ------            --------------   -----  \n",
      " 0   Account           211224 non-null  object \n",
      " 1   Coin              211224 non-null  object \n",
      " 2   Execution Price   211224 non-null  float64\n",
      " 3   Size Tokens       211224 non-null  float64\n",
      " 4   Size USD          211224 non-null  float64\n",
      " 5   Side              211224 non-null  object \n",
      " 6   Timestamp IST     211224 non-null  object \n",
      " 7   Start Position    211224 non-null  float64\n",
      " 8   Direction         211224 non-null  object \n",
      " 9   Closed PnL        211224 non-null  float64\n",
      " 10  Transaction Hash  211224 non-null  object \n",
      " 11  Order ID          211224 non-null  int64  \n",
      " 12  Crossed           211224 non-null  bool   \n",
      " 13  Fee               211224 non-null  float64\n",
      " 14  Trade ID          211224 non-null  float64\n",
      " 15  Timestamp         211224 non-null  float64\n",
      "dtypes: bool(1), float64(8), int64(1), object(6)\n",
      "memory usage: 24.4+ MB\n"
     ]
    }
   ],
   "source": [
    "trader_df.info()"
   ]
  },
  {
   "cell_type": "code",
   "execution_count": 12,
   "id": "1ab31875",
   "metadata": {},
   "outputs": [],
   "source": [
    "# Convert numeric UNIX timestamp (ms) → datetime\n",
    "trader_df['Datetime'] = pd.to_datetime(trader_df['Timestamp'], unit='ms')\n",
    "\n",
    "# Extract just the date for merging with sentiment_df\n",
    "trader_df['trade_date'] = trader_df['Datetime'].dt.date"
   ]
  },
  {
   "cell_type": "code",
   "execution_count": 16,
   "id": "514897fe",
   "metadata": {},
   "outputs": [
    {
     "data": {
      "text/html": [
       "<div>\n",
       "<style scoped>\n",
       "    .dataframe tbody tr th:only-of-type {\n",
       "        vertical-align: middle;\n",
       "    }\n",
       "\n",
       "    .dataframe tbody tr th {\n",
       "        vertical-align: top;\n",
       "    }\n",
       "\n",
       "    .dataframe thead th {\n",
       "        text-align: right;\n",
       "    }\n",
       "</style>\n",
       "<table border=\"1\" class=\"dataframe\">\n",
       "  <thead>\n",
       "    <tr style=\"text-align: right;\">\n",
       "      <th></th>\n",
       "      <th>Account</th>\n",
       "      <th>Coin</th>\n",
       "      <th>Execution Price</th>\n",
       "      <th>Size Tokens</th>\n",
       "      <th>Size USD</th>\n",
       "      <th>Side</th>\n",
       "      <th>Start Position</th>\n",
       "      <th>Direction</th>\n",
       "      <th>Closed PnL</th>\n",
       "      <th>Transaction Hash</th>\n",
       "      <th>Order ID</th>\n",
       "      <th>Crossed</th>\n",
       "      <th>Fee</th>\n",
       "      <th>Trade ID</th>\n",
       "      <th>Datetime</th>\n",
       "      <th>trade_date</th>\n",
       "    </tr>\n",
       "  </thead>\n",
       "  <tbody>\n",
       "    <tr>\n",
       "      <th>0</th>\n",
       "      <td>0xae5eacaf9c6b9111fd53034a602c192a04e082ed</td>\n",
       "      <td>@107</td>\n",
       "      <td>7.9769</td>\n",
       "      <td>986.87</td>\n",
       "      <td>7872.16</td>\n",
       "      <td>BUY</td>\n",
       "      <td>0.000000</td>\n",
       "      <td>Buy</td>\n",
       "      <td>0.0</td>\n",
       "      <td>0xec09451986a1874e3a980418412fcd0201f500c95bac...</td>\n",
       "      <td>52017706630</td>\n",
       "      <td>True</td>\n",
       "      <td>0.345404</td>\n",
       "      <td>8.950000e+14</td>\n",
       "      <td>2024-10-27 03:33:20</td>\n",
       "      <td>2024-10-27</td>\n",
       "    </tr>\n",
       "    <tr>\n",
       "      <th>1</th>\n",
       "      <td>0xae5eacaf9c6b9111fd53034a602c192a04e082ed</td>\n",
       "      <td>@107</td>\n",
       "      <td>7.9800</td>\n",
       "      <td>16.00</td>\n",
       "      <td>127.68</td>\n",
       "      <td>BUY</td>\n",
       "      <td>986.524596</td>\n",
       "      <td>Buy</td>\n",
       "      <td>0.0</td>\n",
       "      <td>0xec09451986a1874e3a980418412fcd0201f500c95bac...</td>\n",
       "      <td>52017706630</td>\n",
       "      <td>True</td>\n",
       "      <td>0.005600</td>\n",
       "      <td>4.430000e+14</td>\n",
       "      <td>2024-10-27 03:33:20</td>\n",
       "      <td>2024-10-27</td>\n",
       "    </tr>\n",
       "    <tr>\n",
       "      <th>2</th>\n",
       "      <td>0xae5eacaf9c6b9111fd53034a602c192a04e082ed</td>\n",
       "      <td>@107</td>\n",
       "      <td>7.9855</td>\n",
       "      <td>144.09</td>\n",
       "      <td>1150.63</td>\n",
       "      <td>BUY</td>\n",
       "      <td>1002.518996</td>\n",
       "      <td>Buy</td>\n",
       "      <td>0.0</td>\n",
       "      <td>0xec09451986a1874e3a980418412fcd0201f500c95bac...</td>\n",
       "      <td>52017706630</td>\n",
       "      <td>True</td>\n",
       "      <td>0.050431</td>\n",
       "      <td>6.600000e+14</td>\n",
       "      <td>2024-10-27 03:33:20</td>\n",
       "      <td>2024-10-27</td>\n",
       "    </tr>\n",
       "    <tr>\n",
       "      <th>3</th>\n",
       "      <td>0xae5eacaf9c6b9111fd53034a602c192a04e082ed</td>\n",
       "      <td>@107</td>\n",
       "      <td>7.9874</td>\n",
       "      <td>142.98</td>\n",
       "      <td>1142.04</td>\n",
       "      <td>BUY</td>\n",
       "      <td>1146.558564</td>\n",
       "      <td>Buy</td>\n",
       "      <td>0.0</td>\n",
       "      <td>0xec09451986a1874e3a980418412fcd0201f500c95bac...</td>\n",
       "      <td>52017706630</td>\n",
       "      <td>True</td>\n",
       "      <td>0.050043</td>\n",
       "      <td>1.080000e+15</td>\n",
       "      <td>2024-10-27 03:33:20</td>\n",
       "      <td>2024-10-27</td>\n",
       "    </tr>\n",
       "    <tr>\n",
       "      <th>4</th>\n",
       "      <td>0xae5eacaf9c6b9111fd53034a602c192a04e082ed</td>\n",
       "      <td>@107</td>\n",
       "      <td>7.9894</td>\n",
       "      <td>8.73</td>\n",
       "      <td>69.75</td>\n",
       "      <td>BUY</td>\n",
       "      <td>1289.488521</td>\n",
       "      <td>Buy</td>\n",
       "      <td>0.0</td>\n",
       "      <td>0xec09451986a1874e3a980418412fcd0201f500c95bac...</td>\n",
       "      <td>52017706630</td>\n",
       "      <td>True</td>\n",
       "      <td>0.003055</td>\n",
       "      <td>1.050000e+15</td>\n",
       "      <td>2024-10-27 03:33:20</td>\n",
       "      <td>2024-10-27</td>\n",
       "    </tr>\n",
       "  </tbody>\n",
       "</table>\n",
       "</div>"
      ],
      "text/plain": [
       "                                      Account  Coin  Execution Price  \\\n",
       "0  0xae5eacaf9c6b9111fd53034a602c192a04e082ed  @107           7.9769   \n",
       "1  0xae5eacaf9c6b9111fd53034a602c192a04e082ed  @107           7.9800   \n",
       "2  0xae5eacaf9c6b9111fd53034a602c192a04e082ed  @107           7.9855   \n",
       "3  0xae5eacaf9c6b9111fd53034a602c192a04e082ed  @107           7.9874   \n",
       "4  0xae5eacaf9c6b9111fd53034a602c192a04e082ed  @107           7.9894   \n",
       "\n",
       "   Size Tokens  Size USD Side  Start Position Direction  Closed PnL  \\\n",
       "0       986.87   7872.16  BUY        0.000000       Buy         0.0   \n",
       "1        16.00    127.68  BUY      986.524596       Buy         0.0   \n",
       "2       144.09   1150.63  BUY     1002.518996       Buy         0.0   \n",
       "3       142.98   1142.04  BUY     1146.558564       Buy         0.0   \n",
       "4         8.73     69.75  BUY     1289.488521       Buy         0.0   \n",
       "\n",
       "                                    Transaction Hash     Order ID  Crossed  \\\n",
       "0  0xec09451986a1874e3a980418412fcd0201f500c95bac...  52017706630     True   \n",
       "1  0xec09451986a1874e3a980418412fcd0201f500c95bac...  52017706630     True   \n",
       "2  0xec09451986a1874e3a980418412fcd0201f500c95bac...  52017706630     True   \n",
       "3  0xec09451986a1874e3a980418412fcd0201f500c95bac...  52017706630     True   \n",
       "4  0xec09451986a1874e3a980418412fcd0201f500c95bac...  52017706630     True   \n",
       "\n",
       "        Fee      Trade ID            Datetime  trade_date  \n",
       "0  0.345404  8.950000e+14 2024-10-27 03:33:20  2024-10-27  \n",
       "1  0.005600  4.430000e+14 2024-10-27 03:33:20  2024-10-27  \n",
       "2  0.050431  6.600000e+14 2024-10-27 03:33:20  2024-10-27  \n",
       "3  0.050043  1.080000e+15 2024-10-27 03:33:20  2024-10-27  \n",
       "4  0.003055  1.050000e+15 2024-10-27 03:33:20  2024-10-27  "
      ]
     },
     "execution_count": 16,
     "metadata": {},
     "output_type": "execute_result"
    }
   ],
   "source": [
    "trader_df.head()"
   ]
  },
  {
   "cell_type": "code",
   "execution_count": 15,
   "id": "6ce110ba",
   "metadata": {},
   "outputs": [],
   "source": [
    "trader_df = trader_df.drop(columns=['Timestamp IST'])\n"
   ]
  },
  {
   "cell_type": "code",
   "execution_count": 20,
   "id": "6bf8c5a4",
   "metadata": {},
   "outputs": [],
   "source": [
    "trader_df['trade_date'] = pd.to_datetime(trader_df['trade_date']).dt.date"
   ]
  },
  {
   "cell_type": "code",
   "execution_count": 23,
   "id": "f520b4d1",
   "metadata": {},
   "outputs": [],
   "source": [
    "sentiment_df['date'] = pd.to_datetime(sentiment_df['date']).dt.date"
   ]
  },
  {
   "cell_type": "code",
   "execution_count": 25,
   "id": "f606dde8",
   "metadata": {},
   "outputs": [],
   "source": [
    "# Merge on date\n",
    "merged_df = trader_df.merge(\n",
    "    sentiment_df[['date', 'classification', 'value']],  # keep only useful cols\n",
    "    left_on='trade_date',\n",
    "    right_on='date',\n",
    "    how='left'\n",
    ")\n",
    "\n",
    "# Drop duplicate Date col\n",
    "merged_df = merged_df.drop(columns=['date'])\n",
    "\n"
   ]
  },
  {
   "cell_type": "code",
   "execution_count": 27,
   "id": "077434db",
   "metadata": {},
   "outputs": [
    {
     "name": "stdout",
     "output_type": "stream",
     "text": [
      "<class 'pandas.core.frame.DataFrame'>\n",
      "RangeIndex: 211224 entries, 0 to 211223\n",
      "Data columns (total 18 columns):\n",
      " #   Column            Non-Null Count   Dtype         \n",
      "---  ------            --------------   -----         \n",
      " 0   Account           211224 non-null  object        \n",
      " 1   Coin              211224 non-null  object        \n",
      " 2   Execution Price   211224 non-null  float64       \n",
      " 3   Size Tokens       211224 non-null  float64       \n",
      " 4   Size USD          211224 non-null  float64       \n",
      " 5   Side              211224 non-null  object        \n",
      " 6   Start Position    211224 non-null  float64       \n",
      " 7   Direction         211224 non-null  object        \n",
      " 8   Closed PnL        211224 non-null  float64       \n",
      " 9   Transaction Hash  211224 non-null  object        \n",
      " 10  Order ID          211224 non-null  int64         \n",
      " 11  Crossed           211224 non-null  bool          \n",
      " 12  Fee               211224 non-null  float64       \n",
      " 13  Trade ID          211224 non-null  float64       \n",
      " 14  Datetime          211224 non-null  datetime64[ns]\n",
      " 15  trade_date        211224 non-null  object        \n",
      " 16  classification    184263 non-null  object        \n",
      " 17  value             184263 non-null  float64       \n",
      "dtypes: bool(1), datetime64[ns](1), float64(8), int64(1), object(7)\n",
      "memory usage: 27.6+ MB\n"
     ]
    }
   ],
   "source": [
    "merged_df.info()"
   ]
  },
  {
   "cell_type": "code",
   "execution_count": 29,
   "id": "c1b2afdf",
   "metadata": {},
   "outputs": [
    {
     "data": {
      "text/plain": [
       "Index(['Account', 'Coin', 'Execution Price', 'Size Tokens', 'Size USD', 'Side',\n",
       "       'Start Position', 'Direction', 'Closed PnL', 'Transaction Hash',\n",
       "       'Order ID', 'Crossed', 'Fee', 'Trade ID', 'Datetime', 'trade_date',\n",
       "       'classification', 'value'],\n",
       "      dtype='object')"
      ]
     },
     "execution_count": 29,
     "metadata": {},
     "output_type": "execute_result"
    }
   ],
   "source": [
    "merged_df.columns"
   ]
  },
  {
   "cell_type": "code",
   "execution_count": 31,
   "id": "962c15bd",
   "metadata": {},
   "outputs": [],
   "source": [
    "merged_df.to_csv(\"csv_files/final_data.csv\")"
   ]
  },
  {
   "cell_type": "code",
   "execution_count": null,
   "id": "aa55f7a4",
   "metadata": {},
   "outputs": [],
   "source": []
  }
 ],
 "metadata": {
  "kernelspec": {
   "display_name": "base",
   "language": "python",
   "name": "python3"
  },
  "language_info": {
   "codemirror_mode": {
    "name": "ipython",
    "version": 3
   },
   "file_extension": ".py",
   "mimetype": "text/x-python",
   "name": "python",
   "nbconvert_exporter": "python",
   "pygments_lexer": "ipython3",
   "version": "3.13.5"
  }
 },
 "nbformat": 4,
 "nbformat_minor": 5
}
